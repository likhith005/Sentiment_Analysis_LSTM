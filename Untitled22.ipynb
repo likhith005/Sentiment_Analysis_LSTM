{
  "nbformat": 4,
  "nbformat_minor": 0,
  "metadata": {
    "colab": {
      "provenance": [],
      "authorship_tag": "ABX9TyNcdIum/oi0S9J+cV82PE2o",
      "include_colab_link": true
    },
    "kernelspec": {
      "name": "python3",
      "display_name": "Python 3"
    },
    "language_info": {
      "name": "python"
    }
  },
  "cells": [
    {
      "cell_type": "markdown",
      "metadata": {
        "id": "view-in-github",
        "colab_type": "text"
      },
      "source": [
        "<a href=\"https://colab.research.google.com/github/likhith005/Sentiment_Analysis_LSTM/blob/master/Untitled22.ipynb\" target=\"_parent\"><img src=\"https://colab.research.google.com/assets/colab-badge.svg\" alt=\"Open In Colab\"/></a>"
      ]
    },
    {
      "cell_type": "code",
      "execution_count": 1,
      "metadata": {
        "colab": {
          "base_uri": "https://localhost:8080/"
        },
        "id": "qTIUbMEWmyil",
        "outputId": "654eeac9-4e77-46bc-c3c4-5f7b44eda8c3"
      },
      "outputs": [
        {
          "output_type": "stream",
          "name": "stdout",
          "text": [
            "Epoch 1/10\n",
            "2/2 [==============================] - 10s 46ms/step - loss: 0.6987 - accuracy: 0.2500\n",
            "Epoch 2/10\n",
            "2/2 [==============================] - 0s 42ms/step - loss: 0.6971 - accuracy: 0.5000\n",
            "Epoch 3/10\n",
            "2/2 [==============================] - 0s 41ms/step - loss: 0.6927 - accuracy: 0.7500\n",
            "Epoch 4/10\n",
            "2/2 [==============================] - 0s 132ms/step - loss: 0.6897 - accuracy: 0.7500\n",
            "Epoch 5/10\n",
            "2/2 [==============================] - 0s 72ms/step - loss: 0.6888 - accuracy: 0.7500\n",
            "Epoch 6/10\n",
            "2/2 [==============================] - 0s 75ms/step - loss: 0.6838 - accuracy: 1.0000\n",
            "Epoch 7/10\n",
            "2/2 [==============================] - 0s 42ms/step - loss: 0.6840 - accuracy: 1.0000\n",
            "Epoch 8/10\n",
            "2/2 [==============================] - 0s 36ms/step - loss: 0.6796 - accuracy: 1.0000\n",
            "Epoch 9/10\n",
            "2/2 [==============================] - 0s 40ms/step - loss: 0.6772 - accuracy: 1.0000\n",
            "Epoch 10/10\n",
            "2/2 [==============================] - 0s 52ms/step - loss: 0.6766 - accuracy: 1.0000\n",
            "1/1 [==============================] - 1s 532ms/step - loss: 0.6703 - accuracy: 1.0000\n",
            "Accuracy: 1.0\n",
            "1/1 [==============================] - 0s 387ms/step\n",
            "Predictions: [[0.5132891 ]\n",
            " [0.49554318]]\n"
          ]
        }
      ],
      "source": [
        "import numpy as np\n",
        "from tensorflow.keras.preprocessing.text import Tokenizer\n",
        "from tensorflow.keras.preprocessing.sequence import pad_sequences\n",
        "from tensorflow.keras.models import Sequential\n",
        "from tensorflow.keras.layers import Embedding, LSTM, Dense\n",
        "\n",
        "# Sample data\n",
        "texts = [\"I love this movie!\",\n",
        "         \"This film is terrible.\",\n",
        "         \"The acting was great.\",\n",
        "         \"I hated the ending.\"]\n",
        "\n",
        "# Labels: 1 for positive, 0 for negative\n",
        "labels = np.array([1, 0, 1, 0])\n",
        "\n",
        "# Tokenization\n",
        "max_words = 1000\n",
        "tokenizer = Tokenizer(num_words=max_words)\n",
        "tokenizer.fit_on_texts(texts)\n",
        "sequences = tokenizer.texts_to_sequences(texts)\n",
        "\n",
        "# Padding sequences\n",
        "maxlen = 20\n",
        "padded_sequences = pad_sequences(sequences, maxlen=maxlen)\n",
        "\n",
        "# Building the LSTM model\n",
        "embedding_dim = 50\n",
        "model = Sequential()\n",
        "model.add(Embedding(input_dim=max_words, output_dim=embedding_dim, input_length=maxlen))\n",
        "model.add(LSTM(units=50, dropout=0.2, recurrent_dropout=0.2))\n",
        "model.add(Dense(units=1, activation='sigmoid'))\n",
        "\n",
        "# Compiling the model\n",
        "model.compile(optimizer='adam', loss='binary_crossentropy', metrics=['accuracy'])\n",
        "\n",
        "# Training the model\n",
        "model.fit(padded_sequences, labels, epochs=10, batch_size=2)\n",
        "\n",
        "# Evaluating the model\n",
        "loss, accuracy = model.evaluate(padded_sequences, labels)\n",
        "print('Accuracy:', accuracy)\n",
        "\n",
        "# Example prediction\n",
        "test_texts = [\"This movie was amazing!\",\n",
        "              \"I didn't like the characters.\"]\n",
        "test_sequences = tokenizer.texts_to_sequences(test_texts)\n",
        "padded_test_sequences = pad_sequences(test_sequences, maxlen=maxlen)\n",
        "predictions = model.predict(padded_test_sequences)\n",
        "print('Predictions:', predictions)\n"
      ]
    },
    {
      "cell_type": "code",
      "source": [],
      "metadata": {
        "id": "rcatBfRTm0ze"
      },
      "execution_count": null,
      "outputs": []
    }
  ]
}